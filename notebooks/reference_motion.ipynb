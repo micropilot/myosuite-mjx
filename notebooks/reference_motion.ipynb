{
 "cells": [
  {
   "cell_type": "code",
   "execution_count": 26,
   "id": "0c38d3fa-3632-4871-b9d2-9934b2ff8201",
   "metadata": {},
   "outputs": [],
   "source": [
    "import glob\n",
    "import numpy as np\n",
    "from myosuite.logger.reference_motion import ReferenceMotion"
   ]
  },
  {
   "cell_type": "code",
   "execution_count": 27,
   "id": "aa5c5d32-6ab5-4f53-bbd2-9f6290a611eb",
   "metadata": {},
   "outputs": [],
   "source": [
    "refs = glob.glob(\"../myosuite/envs/myo/myodm/data/*.npz\")"
   ]
  },
  {
   "cell_type": "code",
   "execution_count": 28,
   "id": "12a1f34c-4918-49ef-a914-2062b1225b28",
   "metadata": {},
   "outputs": [
    {
     "name": "stdout",
     "output_type": "stream",
     "text": [
      "../myosuite/envs/myo/myodm/data/MyoHand_cylindersmall_lift.npz 7 6\n",
      "../myosuite/envs/myo/myodm/data/MyoHand_fryingpan_cook2.npz 7 6\n",
      "../myosuite/envs/myo/myodm/data/MyoHand_hand_pass1.npz 7 6\n",
      "../myosuite/envs/myo/myodm/data/MyoHand_knife_lift.npz 7 6\n",
      "../myosuite/envs/myo/myodm/data/MyoHand_wineglass_drink1.npz 7 6\n"
     ]
    }
   ],
   "source": [
    "for ref in refs:\n",
    "    ref_data = np.load(ref)\n",
    "    if ref_data['object'].shape[1] != ref_data['object_init'].shape[0]:\n",
    "        print (ref, ref_data['object'].shape[1], ref_data['object_init'].shape[0])"
   ]
  }
 ],
 "metadata": {
  "kernelspec": {
   "display_name": "Python 3 (ipykernel)",
   "language": "python",
   "name": "python3"
  },
  "language_info": {
   "codemirror_mode": {
    "name": "ipython",
    "version": 3
   },
   "file_extension": ".py",
   "mimetype": "text/x-python",
   "name": "python",
   "nbconvert_exporter": "python",
   "pygments_lexer": "ipython3",
   "version": "3.10.16"
  }
 },
 "nbformat": 4,
 "nbformat_minor": 5
}
